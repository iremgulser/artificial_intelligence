{
 "cells": [
  {
   "cell_type": "code",
   "execution_count": null,
   "id": "abb673ec",
   "metadata": {},
   "outputs": [],
   "source": [
    "import constraint\n",
    "import numpy as np\n",
    "import matplotlib.pyplot as plt\n",
    "from scipy.optimize import minimize\n",
    "\n",
    "\n",
    "# Add constraints\n",
    "problem.addVariables([\"Amber\", \"Brian\", \"Chris\", \"Diane\", \"hummus\", \"fries\", \"gingerbread\", ])\n",
    "problem.addConstraint(constraint.AllDifferentConstraint())\n",
    "problem.getSolutions()"
   ]
  }
 ],
 "metadata": {
  "kernelspec": {
   "display_name": "Python 3",
   "language": "python",
   "name": "python3"
  },
  "language_info": {
   "codemirror_mode": {
    "name": "ipython",
    "version": 3
   },
   "file_extension": ".py",
   "mimetype": "text/x-python",
   "name": "python",
   "nbconvert_exporter": "python",
   "pygments_lexer": "ipython3",
   "version": "3.8.8"
  }
 },
 "nbformat": 4,
 "nbformat_minor": 5
}
